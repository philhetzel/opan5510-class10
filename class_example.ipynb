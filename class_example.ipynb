{
  "cells": [
    {
      "cell_type": "markdown",
      "metadata": {
        "id": "2fTL5eHCYlHs"
      },
      "source": [
        "# OPIM510: Class 10 - Window Functions\n",
        "\n",
        "## Window Functions\n",
        "\n",
        "Defined by [Postgres](https://www.postgresql.org/docs/9.1/tutorial-window.html) as:\n",
        "\n",
        "> A *window function* performs a calculation across a set of table rows that are somehow related to the current row. This is comparable to the type of calculation that can be done with an aggregate function. But unlike regular aggregate functions, use of a window function does not cause rows to become grouped into a single output row --- the rows retain their separate identities. Behind the scenes, the window function is able to access more than just the current row of the query result.\n",
        "\n",
        "### Examples of Window Function use cases\n",
        "\n",
        "- Ranking (or ranking within groups) based on a metric\n",
        "- Running totals (or running totals within groups) of a metric\n",
        "- Lead/lag calculations (i.e. Looking forward or backwards by *n* rows to perform a calculation on the current row)"
      ]
    },
    {
      "cell_type": "markdown",
      "metadata": {
        "id": "ho3Zsm7NYlHt"
      },
      "source": [
        "## Prepare our environment"
      ]
    },
    {
      "cell_type": "code",
      "execution_count": 4,
      "metadata": {
        "id": "VYR6-n5pYlHt"
      },
      "outputs": [],
      "source": [
        "import polars as pl\n",
        "from datetime import datetime, date"
      ]
    },
    {
      "cell_type": "markdown",
      "metadata": {
        "id": "g22RSSX1YlHt"
      },
      "source": [
        "## Load our dataset"
      ]
    },
    {
      "cell_type": "code",
      "execution_count": 11,
      "metadata": {
        "colab": {
          "base_uri": "https://localhost:8080/",
          "height": 966
        },
        "id": "RlHKZTYIYlHt",
        "outputId": "1157a025-578c-4f85-ade5-f936a481a551"
      },
      "outputs": [
        {
          "output_type": "execute_result",
          "data": {
            "text/plain": [
              "shape: (9_994, 21)\n",
              "┌────────┬───────────────┬────────────┬────────────┬───┬──────────┬──────────┬──────────┬──────────┐\n",
              "│ Row ID ┆ Order ID      ┆ Order Date ┆ Ship Date  ┆ … ┆ Sales    ┆ Quantity ┆ Discount ┆ Profit   │\n",
              "│ ---    ┆ ---           ┆ ---        ┆ ---        ┆   ┆ ---      ┆ ---      ┆ ---      ┆ ---      │\n",
              "│ i64    ┆ str           ┆ date       ┆ str        ┆   ┆ f64      ┆ i64      ┆ f64      ┆ f64      │\n",
              "╞════════╪═══════════════╪════════════╪════════════╪═══╪══════════╪══════════╪══════════╪══════════╡\n",
              "│ 1      ┆ CA-2016-15215 ┆ 2016-11-08 ┆ 11/11/2016 ┆ … ┆ 261.96   ┆ 2        ┆ 0.0      ┆ 41.9136  │\n",
              "│        ┆ 6             ┆            ┆            ┆   ┆          ┆          ┆          ┆          │\n",
              "│ 2      ┆ CA-2016-15215 ┆ 2016-11-08 ┆ 11/11/2016 ┆ … ┆ 731.94   ┆ 3        ┆ 0.0      ┆ 219.582  │\n",
              "│        ┆ 6             ┆            ┆            ┆   ┆          ┆          ┆          ┆          │\n",
              "│ 3      ┆ CA-2016-13868 ┆ 2016-06-12 ┆ 16/6/2016  ┆ … ┆ 14.62    ┆ 2        ┆ 0.0      ┆ 6.8714   │\n",
              "│        ┆ 8             ┆            ┆            ┆   ┆          ┆          ┆          ┆          │\n",
              "│ 4      ┆ US-2015-10896 ┆ 2015-10-11 ┆ 18/10/2015 ┆ … ┆ 957.5775 ┆ 5        ┆ 0.45     ┆ -383.031 │\n",
              "│        ┆ 6             ┆            ┆            ┆   ┆          ┆          ┆          ┆          │\n",
              "│ 5      ┆ US-2015-10896 ┆ 2015-10-11 ┆ 18/10/2015 ┆ … ┆ 22.368   ┆ 2        ┆ 0.2      ┆ 2.5164   │\n",
              "│        ┆ 6             ┆            ┆            ┆   ┆          ┆          ┆          ┆          │\n",
              "│ …      ┆ …             ┆ …          ┆ …          ┆ … ┆ …        ┆ …        ┆ …        ┆ …        │\n",
              "│ 9990   ┆ CA-2014-11042 ┆ 2014-01-21 ┆ 23/1/2014  ┆ … ┆ 25.248   ┆ 3        ┆ 0.2      ┆ 4.1028   │\n",
              "│        ┆ 2             ┆            ┆            ┆   ┆          ┆          ┆          ┆          │\n",
              "│ 9991   ┆ CA-2017-12125 ┆ 2017-02-26 ┆ 3/3/2017   ┆ … ┆ 91.96    ┆ 2        ┆ 0.0      ┆ 15.6332  │\n",
              "│        ┆ 8             ┆            ┆            ┆   ┆          ┆          ┆          ┆          │\n",
              "│ 9992   ┆ CA-2017-12125 ┆ 2017-02-26 ┆ 3/3/2017   ┆ … ┆ 258.576  ┆ 2        ┆ 0.2      ┆ 19.3932  │\n",
              "│        ┆ 8             ┆            ┆            ┆   ┆          ┆          ┆          ┆          │\n",
              "│ 9993   ┆ CA-2017-12125 ┆ 2017-02-26 ┆ 3/3/2017   ┆ … ┆ 29.6     ┆ 4        ┆ 0.0      ┆ 13.32    │\n",
              "│        ┆ 8             ┆            ┆            ┆   ┆          ┆          ┆          ┆          │\n",
              "│ 9994   ┆ CA-2017-11991 ┆ 2017-05-04 ┆ 9/5/2017   ┆ … ┆ 243.16   ┆ 2        ┆ 0.0      ┆ 72.948   │\n",
              "│        ┆ 4             ┆            ┆            ┆   ┆          ┆          ┆          ┆          │\n",
              "└────────┴───────────────┴────────────┴────────────┴───┴──────────┴──────────┴──────────┴──────────┘"
            ],
            "text/html": [
              "<div><style>\n",
              ".dataframe > thead > tr,\n",
              ".dataframe > tbody > tr {\n",
              "  text-align: right;\n",
              "  white-space: pre-wrap;\n",
              "}\n",
              "</style>\n",
              "<small>shape: (9_994, 21)</small><table border=\"1\" class=\"dataframe\"><thead><tr><th>Row ID</th><th>Order ID</th><th>Order Date</th><th>Ship Date</th><th>Ship Mode</th><th>Customer ID</th><th>Customer Name</th><th>Segment</th><th>Country</th><th>City</th><th>State</th><th>Postal Code</th><th>Region</th><th>Product ID</th><th>Category</th><th>Sub-Category</th><th>Product Name</th><th>Sales</th><th>Quantity</th><th>Discount</th><th>Profit</th></tr><tr><td>i64</td><td>str</td><td>date</td><td>str</td><td>str</td><td>str</td><td>str</td><td>str</td><td>str</td><td>str</td><td>str</td><td>i64</td><td>str</td><td>str</td><td>str</td><td>str</td><td>str</td><td>f64</td><td>i64</td><td>f64</td><td>f64</td></tr></thead><tbody><tr><td>1</td><td>&quot;CA-2016-152156&quot;</td><td>2016-11-08</td><td>&quot;11/11/2016&quot;</td><td>&quot;Second Class&quot;</td><td>&quot;CG-12520&quot;</td><td>&quot;Claire Gute&quot;</td><td>&quot;Consumer&quot;</td><td>&quot;United States&quot;</td><td>&quot;Henderson&quot;</td><td>&quot;Kentucky&quot;</td><td>42420</td><td>&quot;South&quot;</td><td>&quot;FUR-BO-10001798&quot;</td><td>&quot;Furniture&quot;</td><td>&quot;Bookcases&quot;</td><td>&quot;Bush Somerset Collection Bookc…</td><td>261.96</td><td>2</td><td>0.0</td><td>41.9136</td></tr><tr><td>2</td><td>&quot;CA-2016-152156&quot;</td><td>2016-11-08</td><td>&quot;11/11/2016&quot;</td><td>&quot;Second Class&quot;</td><td>&quot;CG-12520&quot;</td><td>&quot;Claire Gute&quot;</td><td>&quot;Consumer&quot;</td><td>&quot;United States&quot;</td><td>&quot;Henderson&quot;</td><td>&quot;Kentucky&quot;</td><td>42420</td><td>&quot;South&quot;</td><td>&quot;FUR-CH-10000454&quot;</td><td>&quot;Furniture&quot;</td><td>&quot;Chairs&quot;</td><td>&quot;Hon Deluxe Fabric Upholstered …</td><td>731.94</td><td>3</td><td>0.0</td><td>219.582</td></tr><tr><td>3</td><td>&quot;CA-2016-138688&quot;</td><td>2016-06-12</td><td>&quot;16/6/2016&quot;</td><td>&quot;Second Class&quot;</td><td>&quot;DV-13045&quot;</td><td>&quot;Darrin Van Huff&quot;</td><td>&quot;Corporate&quot;</td><td>&quot;United States&quot;</td><td>&quot;Los Angeles&quot;</td><td>&quot;California&quot;</td><td>90036</td><td>&quot;West&quot;</td><td>&quot;OFF-LA-10000240&quot;</td><td>&quot;Office Supplies&quot;</td><td>&quot;Labels&quot;</td><td>&quot;Self-Adhesive Address Labels f…</td><td>14.62</td><td>2</td><td>0.0</td><td>6.8714</td></tr><tr><td>4</td><td>&quot;US-2015-108966&quot;</td><td>2015-10-11</td><td>&quot;18/10/2015&quot;</td><td>&quot;Standard Class&quot;</td><td>&quot;SO-20335&quot;</td><td>&quot;Sean O&#x27;Donnell&quot;</td><td>&quot;Consumer&quot;</td><td>&quot;United States&quot;</td><td>&quot;Fort Lauderdale&quot;</td><td>&quot;Florida&quot;</td><td>33311</td><td>&quot;South&quot;</td><td>&quot;FUR-TA-10000577&quot;</td><td>&quot;Furniture&quot;</td><td>&quot;Tables&quot;</td><td>&quot;Bretford CR4500 Series Slim Re…</td><td>957.5775</td><td>5</td><td>0.45</td><td>-383.031</td></tr><tr><td>5</td><td>&quot;US-2015-108966&quot;</td><td>2015-10-11</td><td>&quot;18/10/2015&quot;</td><td>&quot;Standard Class&quot;</td><td>&quot;SO-20335&quot;</td><td>&quot;Sean O&#x27;Donnell&quot;</td><td>&quot;Consumer&quot;</td><td>&quot;United States&quot;</td><td>&quot;Fort Lauderdale&quot;</td><td>&quot;Florida&quot;</td><td>33311</td><td>&quot;South&quot;</td><td>&quot;OFF-ST-10000760&quot;</td><td>&quot;Office Supplies&quot;</td><td>&quot;Storage&quot;</td><td>&quot;Eldon Fold &#x27;N Roll Cart System&quot;</td><td>22.368</td><td>2</td><td>0.2</td><td>2.5164</td></tr><tr><td>&hellip;</td><td>&hellip;</td><td>&hellip;</td><td>&hellip;</td><td>&hellip;</td><td>&hellip;</td><td>&hellip;</td><td>&hellip;</td><td>&hellip;</td><td>&hellip;</td><td>&hellip;</td><td>&hellip;</td><td>&hellip;</td><td>&hellip;</td><td>&hellip;</td><td>&hellip;</td><td>&hellip;</td><td>&hellip;</td><td>&hellip;</td><td>&hellip;</td><td>&hellip;</td></tr><tr><td>9990</td><td>&quot;CA-2014-110422&quot;</td><td>2014-01-21</td><td>&quot;23/1/2014&quot;</td><td>&quot;Second Class&quot;</td><td>&quot;TB-21400&quot;</td><td>&quot;Tom Boeckenhauer&quot;</td><td>&quot;Consumer&quot;</td><td>&quot;United States&quot;</td><td>&quot;Miami&quot;</td><td>&quot;Florida&quot;</td><td>33180</td><td>&quot;South&quot;</td><td>&quot;FUR-FU-10001889&quot;</td><td>&quot;Furniture&quot;</td><td>&quot;Furnishings&quot;</td><td>&quot;Ultra Door Pull Handle&quot;</td><td>25.248</td><td>3</td><td>0.2</td><td>4.1028</td></tr><tr><td>9991</td><td>&quot;CA-2017-121258&quot;</td><td>2017-02-26</td><td>&quot;3/3/2017&quot;</td><td>&quot;Standard Class&quot;</td><td>&quot;DB-13060&quot;</td><td>&quot;Dave Brooks&quot;</td><td>&quot;Consumer&quot;</td><td>&quot;United States&quot;</td><td>&quot;Costa Mesa&quot;</td><td>&quot;California&quot;</td><td>92627</td><td>&quot;West&quot;</td><td>&quot;FUR-FU-10000747&quot;</td><td>&quot;Furniture&quot;</td><td>&quot;Furnishings&quot;</td><td>&quot;Tenex B1-RE Series Chair Mats …</td><td>91.96</td><td>2</td><td>0.0</td><td>15.6332</td></tr><tr><td>9992</td><td>&quot;CA-2017-121258&quot;</td><td>2017-02-26</td><td>&quot;3/3/2017&quot;</td><td>&quot;Standard Class&quot;</td><td>&quot;DB-13060&quot;</td><td>&quot;Dave Brooks&quot;</td><td>&quot;Consumer&quot;</td><td>&quot;United States&quot;</td><td>&quot;Costa Mesa&quot;</td><td>&quot;California&quot;</td><td>92627</td><td>&quot;West&quot;</td><td>&quot;TEC-PH-10003645&quot;</td><td>&quot;Technology&quot;</td><td>&quot;Phones&quot;</td><td>&quot;Aastra 57i VoIP phone&quot;</td><td>258.576</td><td>2</td><td>0.2</td><td>19.3932</td></tr><tr><td>9993</td><td>&quot;CA-2017-121258&quot;</td><td>2017-02-26</td><td>&quot;3/3/2017&quot;</td><td>&quot;Standard Class&quot;</td><td>&quot;DB-13060&quot;</td><td>&quot;Dave Brooks&quot;</td><td>&quot;Consumer&quot;</td><td>&quot;United States&quot;</td><td>&quot;Costa Mesa&quot;</td><td>&quot;California&quot;</td><td>92627</td><td>&quot;West&quot;</td><td>&quot;OFF-PA-10004041&quot;</td><td>&quot;Office Supplies&quot;</td><td>&quot;Paper&quot;</td><td>&quot;It&#x27;s Hot Message Books with St…</td><td>29.6</td><td>4</td><td>0.0</td><td>13.32</td></tr><tr><td>9994</td><td>&quot;CA-2017-119914&quot;</td><td>2017-05-04</td><td>&quot;9/5/2017&quot;</td><td>&quot;Second Class&quot;</td><td>&quot;CC-12220&quot;</td><td>&quot;Chris Cortes&quot;</td><td>&quot;Consumer&quot;</td><td>&quot;United States&quot;</td><td>&quot;Westminster&quot;</td><td>&quot;California&quot;</td><td>92683</td><td>&quot;West&quot;</td><td>&quot;OFF-AP-10002684&quot;</td><td>&quot;Office Supplies&quot;</td><td>&quot;Appliances&quot;</td><td>&quot;Acco 7-Outlet Masterpiece Powe…</td><td>243.16</td><td>2</td><td>0.0</td><td>72.948</td></tr></tbody></table></div>"
            ]
          },
          "metadata": {},
          "execution_count": 11
        }
      ],
      "source": [
        "# Read the Superstore CSV file\n",
        "sales = pl.read_csv('https://raw.githubusercontent.com/yajasarora/Superstore-Sales-Analysis-with-Tableau/refs/heads/master/Superstore%20sales%20dataset.csv')\n",
        "\n",
        "# Convert 'Order Date' to datetime\n",
        "sales = sales.with_columns(\n",
        "    pl.col(\"Order Date\").str.strptime(pl.Date, \"%d/%m/%Y\").alias(\"Order Date\")\n",
        ")\n",
        "\n",
        "sales"
      ]
    },
    {
      "cell_type": "markdown",
      "metadata": {
        "id": "uDoUlKQ3YlHt"
      },
      "source": [
        "## Using window functions to compute ranking\n",
        "\n",
        "**Business Question:** Who are our top 10 most `Profit`able `Customer Name`s?\n",
        "\n",
        "Key Points:\n",
        "- We need to aggregate `Profit` for each `Customer Name`\n",
        "- We need to rank the `Customer Name` groups on total `Profit`, then filter for only the top 10"
      ]
    },
    {
      "cell_type": "code",
      "execution_count": 6,
      "metadata": {
        "id": "giI10x0UYlHt",
        "colab": {
          "base_uri": "https://localhost:8080/",
          "height": 412
        },
        "outputId": "23781065-aac8-4b18-8dd6-816524365e16"
      },
      "outputs": [
        {
          "output_type": "execute_result",
          "data": {
            "text/plain": [
              "shape: (10, 3)\n",
              "┌──────────────────────┬──────────────┬─────────────┐\n",
              "│ Customer Name        ┆ total_profit ┆ profit_rank │\n",
              "│ ---                  ┆ ---          ┆ ---         │\n",
              "│ str                  ┆ f64          ┆ u32         │\n",
              "╞══════════════════════╪══════════════╪═════════════╡\n",
              "│ Tamara Chand         ┆ 8981.3239    ┆ 1           │\n",
              "│ Raymond Buch         ┆ 6976.0959    ┆ 2           │\n",
              "│ Sanjit Chand         ┆ 5757.4119    ┆ 3           │\n",
              "│ Hunter Lopez         ┆ 5622.4292    ┆ 4           │\n",
              "│ Adrian Barton        ┆ 5444.8055    ┆ 5           │\n",
              "│ Tom Ashbrook         ┆ 4703.7883    ┆ 6           │\n",
              "│ Christopher Martinez ┆ 3899.8904    ┆ 7           │\n",
              "│ Keith Dawkins        ┆ 3038.6254    ┆ 8           │\n",
              "│ Andy Reiter          ┆ 2884.6208    ┆ 9           │\n",
              "│ Daniel Raglin        ┆ 2869.076     ┆ 10          │\n",
              "└──────────────────────┴──────────────┴─────────────┘"
            ],
            "text/html": [
              "<div><style>\n",
              ".dataframe > thead > tr,\n",
              ".dataframe > tbody > tr {\n",
              "  text-align: right;\n",
              "  white-space: pre-wrap;\n",
              "}\n",
              "</style>\n",
              "<small>shape: (10, 3)</small><table border=\"1\" class=\"dataframe\"><thead><tr><th>Customer Name</th><th>total_profit</th><th>profit_rank</th></tr><tr><td>str</td><td>f64</td><td>u32</td></tr></thead><tbody><tr><td>&quot;Tamara Chand&quot;</td><td>8981.3239</td><td>1</td></tr><tr><td>&quot;Raymond Buch&quot;</td><td>6976.0959</td><td>2</td></tr><tr><td>&quot;Sanjit Chand&quot;</td><td>5757.4119</td><td>3</td></tr><tr><td>&quot;Hunter Lopez&quot;</td><td>5622.4292</td><td>4</td></tr><tr><td>&quot;Adrian Barton&quot;</td><td>5444.8055</td><td>5</td></tr><tr><td>&quot;Tom Ashbrook&quot;</td><td>4703.7883</td><td>6</td></tr><tr><td>&quot;Christopher Martinez&quot;</td><td>3899.8904</td><td>7</td></tr><tr><td>&quot;Keith Dawkins&quot;</td><td>3038.6254</td><td>8</td></tr><tr><td>&quot;Andy Reiter&quot;</td><td>2884.6208</td><td>9</td></tr><tr><td>&quot;Daniel Raglin&quot;</td><td>2869.076</td><td>10</td></tr></tbody></table></div>"
            ]
          },
          "metadata": {},
          "execution_count": 6
        }
      ],
      "source": [
        "top_customers = (\n",
        "    sales\n",
        "    .group_by(\"Customer Name\")\n",
        "    .agg(\n",
        "        pl.col(\"Profit\").sum().alias(\"total_profit\")\n",
        "    )\n",
        "    .with_columns(\n",
        "        pl.col(\"total_profit\").rank(method=\"min\", descending=True).alias(\"profit_rank\")\n",
        "    )\n",
        "    .filter(pl.col(\"profit_rank\") < 11)\n",
        "    .sort(\"profit_rank\")\n",
        ")\n",
        "\n",
        "top_customers"
      ]
    },
    {
      "cell_type": "markdown",
      "metadata": {
        "id": "G9BnUhJoYlHt"
      },
      "source": [
        "## Using window function within groups\n",
        "\n",
        "**Business Question:** Who are the most `Profit`able `Customer Names` for each `Region`?\n",
        "\n",
        "Key Points:\n",
        "- We need to aggregate `Profit` for each combination of `Customer Name` and `Region`\n",
        "- We need to rank the `Customer Name` groups on total `Profit`, then filter for only the top 10 FOR EACH `Region`"
      ]
    },
    {
      "cell_type": "code",
      "execution_count": 7,
      "metadata": {
        "id": "eDKNo22WYlHt",
        "colab": {
          "base_uri": "https://localhost:8080/",
          "height": 461
        },
        "outputId": "56f97caa-2cfd-4302-cb9e-df297ca269cf"
      },
      "outputs": [
        {
          "output_type": "stream",
          "name": "stdout",
          "text": [
            "Shape: (40, 4)\n"
          ]
        },
        {
          "output_type": "execute_result",
          "data": {
            "text/plain": [
              "shape: (20, 4)\n",
              "┌──────────────────┬─────────┬──────────────┬─────────────┐\n",
              "│ Customer Name    ┆ Region  ┆ total_profit ┆ profit_rank │\n",
              "│ ---              ┆ ---     ┆ ---          ┆ ---         │\n",
              "│ str              ┆ str     ┆ f64          ┆ u32         │\n",
              "╞══════════════════╪═════════╪══════════════╪═════════════╡\n",
              "│ Tamara Chand     ┆ Central ┆ 8745.0635    ┆ 1           │\n",
              "│ Adrian Barton    ┆ Central ┆ 5362.6135    ┆ 2           │\n",
              "│ Sanjit Chand     ┆ Central ┆ 4668.6935    ┆ 3           │\n",
              "│ Andy Reiter      ┆ Central ┆ 2602.0939    ┆ 4           │\n",
              "│ Harry Marie      ┆ Central ┆ 1996.8809    ┆ 5           │\n",
              "│ …                ┆ …       ┆ …            ┆ …           │\n",
              "│ Karen Daniels    ┆ East    ┆ 2283.0463    ┆ 6           │\n",
              "│ Nathan Mautz     ┆ East    ┆ 2247.1904    ┆ 7           │\n",
              "│ Tom Boeckenhauer ┆ East    ┆ 2239.9872    ┆ 8           │\n",
              "│ Steven Roelle    ┆ East    ┆ 1863.9614    ┆ 9           │\n",
              "│ Todd Sumrall     ┆ East    ┆ 1835.0772    ┆ 10          │\n",
              "└──────────────────┴─────────┴──────────────┴─────────────┘"
            ],
            "text/html": [
              "<div><style>\n",
              ".dataframe > thead > tr,\n",
              ".dataframe > tbody > tr {\n",
              "  text-align: right;\n",
              "  white-space: pre-wrap;\n",
              "}\n",
              "</style>\n",
              "<small>shape: (20, 4)</small><table border=\"1\" class=\"dataframe\"><thead><tr><th>Customer Name</th><th>Region</th><th>total_profit</th><th>profit_rank</th></tr><tr><td>str</td><td>str</td><td>f64</td><td>u32</td></tr></thead><tbody><tr><td>&quot;Tamara Chand&quot;</td><td>&quot;Central&quot;</td><td>8745.0635</td><td>1</td></tr><tr><td>&quot;Adrian Barton&quot;</td><td>&quot;Central&quot;</td><td>5362.6135</td><td>2</td></tr><tr><td>&quot;Sanjit Chand&quot;</td><td>&quot;Central&quot;</td><td>4668.6935</td><td>3</td></tr><tr><td>&quot;Andy Reiter&quot;</td><td>&quot;Central&quot;</td><td>2602.0939</td><td>4</td></tr><tr><td>&quot;Harry Marie&quot;</td><td>&quot;Central&quot;</td><td>1996.8809</td><td>5</td></tr><tr><td>&hellip;</td><td>&hellip;</td><td>&hellip;</td><td>&hellip;</td></tr><tr><td>&quot;Karen Daniels&quot;</td><td>&quot;East&quot;</td><td>2283.0463</td><td>6</td></tr><tr><td>&quot;Nathan Mautz&quot;</td><td>&quot;East&quot;</td><td>2247.1904</td><td>7</td></tr><tr><td>&quot;Tom Boeckenhauer&quot;</td><td>&quot;East&quot;</td><td>2239.9872</td><td>8</td></tr><tr><td>&quot;Steven Roelle&quot;</td><td>&quot;East&quot;</td><td>1863.9614</td><td>9</td></tr><tr><td>&quot;Todd Sumrall&quot;</td><td>&quot;East&quot;</td><td>1835.0772</td><td>10</td></tr></tbody></table></div>"
            ]
          },
          "metadata": {},
          "execution_count": 7
        }
      ],
      "source": [
        "top_customers_region = (\n",
        "    sales\n",
        "    .group_by([\"Customer Name\", \"Region\"])\n",
        "    .agg(\n",
        "        pl.col(\"Profit\").sum().alias(\"total_profit\")\n",
        "    )\n",
        "    .with_columns(\n",
        "        pl.col(\"total_profit\")\n",
        "        .rank(method=\"min\", descending=True)\n",
        "        .over(\"Region\")\n",
        "        .alias(\"profit_rank\")\n",
        "    )\n",
        "    .filter(pl.col(\"profit_rank\") < 11)\n",
        "    .sort([\"Region\", \"profit_rank\"])\n",
        ")\n",
        "\n",
        "print(f\"Shape: {top_customers_region.shape}\")\n",
        "top_customers_region.head(20)"
      ]
    },
    {
      "cell_type": "markdown",
      "metadata": {
        "id": "eeq_2XQeYlHt"
      },
      "source": [
        "## Cumulative (running) totals\n",
        "\n",
        "**Business Question:** Show the running total of `Sales` for the days (using by `Order Date`) leading up to 2016-11-08.\n",
        "\n",
        "Key Points:\n",
        "- Need to figure out how to get a running total of `Sales`\n",
        "- Must order the data in ascending order by `Order Date`"
      ]
    },
    {
      "cell_type": "code",
      "execution_count": 12,
      "metadata": {
        "id": "SxzCA4yWYlHt",
        "colab": {
          "base_uri": "https://localhost:8080/",
          "height": 430
        },
        "outputId": "70231f39-3c4f-4d31-c550-bb4248dce0af"
      },
      "outputs": [
        {
          "output_type": "stream",
          "name": "stdout",
          "text": [
            "Shape: (864, 3)\n"
          ]
        },
        {
          "output_type": "execute_result",
          "data": {
            "text/plain": [
              "shape: (10, 3)\n",
              "┌────────────┬───────────┬───────────────┐\n",
              "│ Order Date ┆ tot_sales ┆ running_total │\n",
              "│ ---        ┆ ---       ┆ ---           │\n",
              "│ date       ┆ f64       ┆ f64           │\n",
              "╞════════════╪═══════════╪═══════════════╡\n",
              "│ 2016-10-28 ┆ 2899.021  ┆ 1.3835e6      │\n",
              "│ 2016-10-29 ┆ 131.154   ┆ 1.3837e6      │\n",
              "│ 2016-10-30 ┆ 159.002   ┆ 1.3838e6      │\n",
              "│ 2016-10-31 ┆ 3750.499  ┆ 1.3876e6      │\n",
              "│ 2016-11-01 ┆ 453.374   ┆ 1.3880e6      │\n",
              "│ 2016-11-03 ┆ 3802.796  ┆ 1.3918e6      │\n",
              "│ 2016-11-04 ┆ 3888.818  ┆ 1.3957e6      │\n",
              "│ 2016-11-05 ┆ 4266.8988 ┆ 1.4000e6      │\n",
              "│ 2016-11-06 ┆ 773.256   ┆ 1.4008e6      │\n",
              "│ 2016-11-07 ┆ 3810.464  ┆ 1.4046e6      │\n",
              "└────────────┴───────────┴───────────────┘"
            ],
            "text/html": [
              "<div><style>\n",
              ".dataframe > thead > tr,\n",
              ".dataframe > tbody > tr {\n",
              "  text-align: right;\n",
              "  white-space: pre-wrap;\n",
              "}\n",
              "</style>\n",
              "<small>shape: (10, 3)</small><table border=\"1\" class=\"dataframe\"><thead><tr><th>Order Date</th><th>tot_sales</th><th>running_total</th></tr><tr><td>date</td><td>f64</td><td>f64</td></tr></thead><tbody><tr><td>2016-10-28</td><td>2899.021</td><td>1.3835e6</td></tr><tr><td>2016-10-29</td><td>131.154</td><td>1.3837e6</td></tr><tr><td>2016-10-30</td><td>159.002</td><td>1.3838e6</td></tr><tr><td>2016-10-31</td><td>3750.499</td><td>1.3876e6</td></tr><tr><td>2016-11-01</td><td>453.374</td><td>1.3880e6</td></tr><tr><td>2016-11-03</td><td>3802.796</td><td>1.3918e6</td></tr><tr><td>2016-11-04</td><td>3888.818</td><td>1.3957e6</td></tr><tr><td>2016-11-05</td><td>4266.8988</td><td>1.4000e6</td></tr><tr><td>2016-11-06</td><td>773.256</td><td>1.4008e6</td></tr><tr><td>2016-11-07</td><td>3810.464</td><td>1.4046e6</td></tr></tbody></table></div>"
            ]
          },
          "metadata": {},
          "execution_count": 12
        }
      ],
      "source": [
        "running_sales = (\n",
        "    sales\n",
        "    .group_by(\"Order Date\")\n",
        "    .agg(\n",
        "        pl.col(\"Sales\").sum().alias(\"tot_sales\")\n",
        "    )\n",
        "    .sort(\"Order Date\")\n",
        "    .with_columns(\n",
        "        pl.col(\"tot_sales\").cum_sum().alias(\"running_total\")\n",
        "    )\n",
        "    .filter(pl.col(\"Order Date\") < datetime(2016, 11, 8))\n",
        ")\n",
        "\n",
        "print(f\"Shape: {running_sales.shape}\")\n",
        "running_sales.tail(10)"
      ]
    },
    {
      "cell_type": "markdown",
      "metadata": {
        "id": "9aeAiwZIYlHt"
      },
      "source": [
        "## Quick Summarization\n",
        "\n",
        "**Business Question:** What is the the total amount of both `Sales` and `Profit` for each month of `Order Date`? (When computing months, each combination of year and month counts as a unique month.)\n",
        "\n",
        "Key points:\n",
        "- Need to figure out how to parse out only the year/months from the `Order Date` column\n",
        "- We can use Polars' datetime functionality to truncate dates to month boundaries\n",
        "- FOR EACH usually means we are grouping by something. In this case we have to figure out how to get year/month combinations from the `Order Date` field\n",
        "- Create sums for both `Sales` and `Profit`"
      ]
    },
    {
      "cell_type": "markdown",
      "metadata": {
        "id": "BrODhhbsYlHu"
      },
      "source": [
        "### Date truncation examples in Polars"
      ]
    },
    {
      "cell_type": "code",
      "execution_count": 13,
      "metadata": {
        "id": "Co8FnAU2YlHu",
        "colab": {
          "base_uri": "https://localhost:8080/"
        },
        "outputId": "5b5b2fae-2878-494c-9862-3a605be1d651"
      },
      "outputs": [
        {
          "output_type": "stream",
          "name": "stdout",
          "text": [
            "Original datetime: 2023-11-07 12:31:13\n",
            "\n",
            "Truncated to different units:\n",
            "shape: (1, 6)\n",
            "┌────────────────┬────────────────┬────────────────┬───────────────┬───────────────┬───────────────┐\n",
            "│ datetime       ┆ year           ┆ month          ┆ day           ┆ hour          ┆ minute        │\n",
            "│ ---            ┆ ---            ┆ ---            ┆ ---           ┆ ---           ┆ ---           │\n",
            "│ datetime[μs]   ┆ datetime[μs]   ┆ datetime[μs]   ┆ datetime[μs]  ┆ datetime[μs]  ┆ datetime[μs]  │\n",
            "╞════════════════╪════════════════╪════════════════╪═══════════════╪═══════════════╪═══════════════╡\n",
            "│ 2023-11-07     ┆ 2023-01-01     ┆ 2023-11-01     ┆ 2023-11-07    ┆ 2023-11-07    ┆ 2023-11-07    │\n",
            "│ 12:31:13       ┆ 00:00:00       ┆ 00:00:00       ┆ 00:00:00      ┆ 12:00:00      ┆ 12:31:00      │\n",
            "└────────────────┴────────────────┴────────────────┴───────────────┴───────────────┴───────────────┘\n"
          ]
        }
      ],
      "source": [
        "# Examples of date truncation in Polars\n",
        "example_date = datetime(2023, 11, 7, 12, 31, 13)\n",
        "df_example = pl.DataFrame({\"datetime\": [example_date]})\n",
        "\n",
        "print(\"Original datetime:\", example_date)\n",
        "print(\"\\nTruncated to different units:\")\n",
        "print(df_example.with_columns([\n",
        "    pl.col(\"datetime\").dt.truncate(\"1y\").alias(\"year\"),\n",
        "    pl.col(\"datetime\").dt.truncate(\"1mo\").alias(\"month\"),\n",
        "    pl.col(\"datetime\").dt.truncate(\"1d\").alias(\"day\"),\n",
        "    pl.col(\"datetime\").dt.truncate(\"1h\").alias(\"hour\"),\n",
        "    pl.col(\"datetime\").dt.truncate(\"1m\").alias(\"minute\"),\n",
        "]))"
      ]
    },
    {
      "cell_type": "code",
      "execution_count": 14,
      "metadata": {
        "id": "XogE6ZaTYlHu",
        "colab": {
          "base_uri": "https://localhost:8080/",
          "height": 461
        },
        "outputId": "a624b708-2b50-46ed-8ae8-19fe9c1a355c"
      },
      "outputs": [
        {
          "output_type": "stream",
          "name": "stdout",
          "text": [
            "Shape: (48, 3)\n"
          ]
        },
        {
          "output_type": "execute_result",
          "data": {
            "text/plain": [
              "shape: (12, 3)\n",
              "┌────────────┬────────────┬────────────┐\n",
              "│ month      ┆ tot_sales  ┆ tot_profit │\n",
              "│ ---        ┆ ---        ┆ ---        │\n",
              "│ date       ┆ f64        ┆ f64        │\n",
              "╞════════════╪════════════╪════════════╡\n",
              "│ 2014-01-01 ┆ 14236.895  ┆ 2450.1907  │\n",
              "│ 2014-02-01 ┆ 4519.892   ┆ 862.3084   │\n",
              "│ 2014-03-01 ┆ 55691.009  ┆ 498.7299   │\n",
              "│ 2014-04-01 ┆ 28295.345  ┆ 3488.8352  │\n",
              "│ 2014-05-01 ┆ 23648.287  ┆ 2738.7096  │\n",
              "│ …          ┆ …          ┆ …          │\n",
              "│ 2014-08-01 ┆ 27909.4685 ┆ 5318.105   │\n",
              "│ 2014-09-01 ┆ 81777.3508 ┆ 8328.0994  │\n",
              "│ 2014-10-01 ┆ 31453.393  ┆ 3448.2573  │\n",
              "│ 2014-11-01 ┆ 78628.7167 ┆ 9292.1269  │\n",
              "│ 2014-12-01 ┆ 69545.6205 ┆ 8983.5699  │\n",
              "└────────────┴────────────┴────────────┘"
            ],
            "text/html": [
              "<div><style>\n",
              ".dataframe > thead > tr,\n",
              ".dataframe > tbody > tr {\n",
              "  text-align: right;\n",
              "  white-space: pre-wrap;\n",
              "}\n",
              "</style>\n",
              "<small>shape: (12, 3)</small><table border=\"1\" class=\"dataframe\"><thead><tr><th>month</th><th>tot_sales</th><th>tot_profit</th></tr><tr><td>date</td><td>f64</td><td>f64</td></tr></thead><tbody><tr><td>2014-01-01</td><td>14236.895</td><td>2450.1907</td></tr><tr><td>2014-02-01</td><td>4519.892</td><td>862.3084</td></tr><tr><td>2014-03-01</td><td>55691.009</td><td>498.7299</td></tr><tr><td>2014-04-01</td><td>28295.345</td><td>3488.8352</td></tr><tr><td>2014-05-01</td><td>23648.287</td><td>2738.7096</td></tr><tr><td>&hellip;</td><td>&hellip;</td><td>&hellip;</td></tr><tr><td>2014-08-01</td><td>27909.4685</td><td>5318.105</td></tr><tr><td>2014-09-01</td><td>81777.3508</td><td>8328.0994</td></tr><tr><td>2014-10-01</td><td>31453.393</td><td>3448.2573</td></tr><tr><td>2014-11-01</td><td>78628.7167</td><td>9292.1269</td></tr><tr><td>2014-12-01</td><td>69545.6205</td><td>8983.5699</td></tr></tbody></table></div>"
            ]
          },
          "metadata": {},
          "execution_count": 14
        }
      ],
      "source": [
        "monthly_sales = (\n",
        "    sales\n",
        "    .with_columns(\n",
        "        pl.col(\"Order Date\").dt.truncate(\"1mo\").alias(\"month\")\n",
        "    )\n",
        "    .group_by(\"month\")\n",
        "    .agg([\n",
        "        pl.col(\"Sales\").sum().alias(\"tot_sales\"),\n",
        "        pl.col(\"Profit\").sum().alias(\"tot_profit\")\n",
        "    ])\n",
        "    .sort(\"month\")\n",
        ")\n",
        "\n",
        "print(f\"Shape: {monthly_sales.shape}\")\n",
        "monthly_sales.head(12)"
      ]
    },
    {
      "cell_type": "markdown",
      "metadata": {
        "id": "CimeXkq_YlHu"
      },
      "source": [
        "## Going one level further\n",
        "\n",
        "**Business Question:** Using the data frame from the previous question: between which months was the greatest jump in sales?\n",
        "\n",
        "Key Points:\n",
        "- Using the previous data frame\n",
        "- Need to figure out the difference between `tot_sales` from month to month"
      ]
    },
    {
      "cell_type": "code",
      "execution_count": 16,
      "metadata": {
        "id": "fc2GF3ORYlHu",
        "colab": {
          "base_uri": "https://localhost:8080/",
          "height": 657
        },
        "outputId": "bf956d77-8e63-462e-9d07-0f8b318cfb9b"
      },
      "outputs": [
        {
          "output_type": "stream",
          "name": "stdout",
          "text": [
            "\n",
            "Month with greatest sales increase:\n",
            "shape: (1, 4)\n",
            "┌────────────┬────────────┬────────────┬───────────────────┐\n",
            "│ month      ┆ tot_sales  ┆ tot_profit ┆ month_sales_delta │\n",
            "│ ---        ┆ ---        ┆ ---        ┆ ---               │\n",
            "│ date       ┆ f64        ┆ f64        ┆ f64               │\n",
            "╞════════════╪════════════╪════════════╪═══════════════════╡\n",
            "│ 2014-09-01 ┆ 81777.3508 ┆ 8328.0994  ┆ 53867.8823        │\n",
            "└────────────┴────────────┴────────────┴───────────────────┘\n",
            "\n",
            "All monthly deltas:\n"
          ]
        },
        {
          "output_type": "execute_result",
          "data": {
            "text/plain": [
              "shape: (12, 4)\n",
              "┌────────────┬────────────┬────────────┬───────────────────┐\n",
              "│ month      ┆ tot_sales  ┆ tot_profit ┆ month_sales_delta │\n",
              "│ ---        ┆ ---        ┆ ---        ┆ ---               │\n",
              "│ date       ┆ f64        ┆ f64        ┆ f64               │\n",
              "╞════════════╪════════════╪════════════╪═══════════════════╡\n",
              "│ 2014-01-01 ┆ 14236.895  ┆ 2450.1907  ┆ null              │\n",
              "│ 2014-02-01 ┆ 4519.892   ┆ 862.3084   ┆ -9717.003         │\n",
              "│ 2014-03-01 ┆ 55691.009  ┆ 498.7299   ┆ 51171.117         │\n",
              "│ 2014-04-01 ┆ 28295.345  ┆ 3488.8352  ┆ -27395.664        │\n",
              "│ 2014-05-01 ┆ 23648.287  ┆ 2738.7096  ┆ -4647.058         │\n",
              "│ …          ┆ …          ┆ …          ┆ …                 │\n",
              "│ 2014-08-01 ┆ 27909.4685 ┆ 5318.105   ┆ -6036.9245        │\n",
              "│ 2014-09-01 ┆ 81777.3508 ┆ 8328.0994  ┆ 53867.8823        │\n",
              "│ 2014-10-01 ┆ 31453.393  ┆ 3448.2573  ┆ -50323.9578       │\n",
              "│ 2014-11-01 ┆ 78628.7167 ┆ 9292.1269  ┆ 47175.3237        │\n",
              "│ 2014-12-01 ┆ 69545.6205 ┆ 8983.5699  ┆ -9083.0962        │\n",
              "└────────────┴────────────┴────────────┴───────────────────┘"
            ],
            "text/html": [
              "<div><style>\n",
              ".dataframe > thead > tr,\n",
              ".dataframe > tbody > tr {\n",
              "  text-align: right;\n",
              "  white-space: pre-wrap;\n",
              "}\n",
              "</style>\n",
              "<small>shape: (12, 4)</small><table border=\"1\" class=\"dataframe\"><thead><tr><th>month</th><th>tot_sales</th><th>tot_profit</th><th>month_sales_delta</th></tr><tr><td>date</td><td>f64</td><td>f64</td><td>f64</td></tr></thead><tbody><tr><td>2014-01-01</td><td>14236.895</td><td>2450.1907</td><td>null</td></tr><tr><td>2014-02-01</td><td>4519.892</td><td>862.3084</td><td>-9717.003</td></tr><tr><td>2014-03-01</td><td>55691.009</td><td>498.7299</td><td>51171.117</td></tr><tr><td>2014-04-01</td><td>28295.345</td><td>3488.8352</td><td>-27395.664</td></tr><tr><td>2014-05-01</td><td>23648.287</td><td>2738.7096</td><td>-4647.058</td></tr><tr><td>&hellip;</td><td>&hellip;</td><td>&hellip;</td><td>&hellip;</td></tr><tr><td>2014-08-01</td><td>27909.4685</td><td>5318.105</td><td>-6036.9245</td></tr><tr><td>2014-09-01</td><td>81777.3508</td><td>8328.0994</td><td>53867.8823</td></tr><tr><td>2014-10-01</td><td>31453.393</td><td>3448.2573</td><td>-50323.9578</td></tr><tr><td>2014-11-01</td><td>78628.7167</td><td>9292.1269</td><td>47175.3237</td></tr><tr><td>2014-12-01</td><td>69545.6205</td><td>8983.5699</td><td>-9083.0962</td></tr></tbody></table></div>"
            ]
          },
          "metadata": {},
          "execution_count": 16
        }
      ],
      "source": [
        "delta_sales = (\n",
        "    monthly_sales\n",
        "    .with_columns(\n",
        "        (pl.col(\"tot_sales\") - pl.col(\"tot_sales\").shift(1)).alias(\"month_sales_delta\")\n",
        "    )\n",
        ")\n",
        "\n",
        "print(\"\\nMonth with greatest sales increase:\")\n",
        "print(delta_sales.sort(\"month_sales_delta\", descending=True, nulls_last=True).head(1))\n",
        "\n",
        "print(\"\\nAll monthly deltas:\")\n",
        "delta_sales.head(12)"
      ]
    },
    {
      "cell_type": "markdown",
      "metadata": {
        "id": "702ztF2YYlHu"
      },
      "source": [
        "## Same dataset but now finding the `Profit` monthly delta\n",
        "\n",
        "**Business Question:** Using the data frame from the previous question: between which months was the greatest jump in profit?\n",
        "\n",
        "Key Points:\n",
        "- Using the previous data frame\n",
        "- Need to figure out the difference between `tot_profit` from month to month"
      ]
    },
    {
      "cell_type": "code",
      "execution_count": 17,
      "metadata": {
        "id": "xuDPRN3lYlHu",
        "colab": {
          "base_uri": "https://localhost:8080/",
          "height": 657
        },
        "outputId": "387c4edc-9dfb-417f-bcfe-9a290c6e7bf6"
      },
      "outputs": [
        {
          "output_type": "stream",
          "name": "stdout",
          "text": [
            "\n",
            "Month with greatest profit increase:\n",
            "shape: (1, 5)\n",
            "┌────────────┬───────────┬────────────┬───────────────────┬────────────────────┐\n",
            "│ month      ┆ tot_sales ┆ tot_profit ┆ month_sales_delta ┆ month_profit_delta │\n",
            "│ ---        ┆ ---       ┆ ---        ┆ ---               ┆ ---                │\n",
            "│ date       ┆ f64       ┆ f64        ┆ f64               ┆ f64                │\n",
            "╞════════════╪═══════════╪════════════╪═══════════════════╪════════════════════╡\n",
            "│ 2016-12-01 ┆ 96999.043 ┆ 17885.3093 ┆ 17587.0772        ┆ 13873.9018         │\n",
            "└────────────┴───────────┴────────────┴───────────────────┴────────────────────┘\n",
            "\n",
            "All monthly deltas:\n"
          ]
        },
        {
          "output_type": "execute_result",
          "data": {
            "text/plain": [
              "shape: (12, 5)\n",
              "┌────────────┬────────────┬────────────┬───────────────────┬────────────────────┐\n",
              "│ month      ┆ tot_sales  ┆ tot_profit ┆ month_sales_delta ┆ month_profit_delta │\n",
              "│ ---        ┆ ---        ┆ ---        ┆ ---               ┆ ---                │\n",
              "│ date       ┆ f64        ┆ f64        ┆ f64               ┆ f64                │\n",
              "╞════════════╪════════════╪════════════╪═══════════════════╪════════════════════╡\n",
              "│ 2014-01-01 ┆ 14236.895  ┆ 2450.1907  ┆ null              ┆ null               │\n",
              "│ 2014-02-01 ┆ 4519.892   ┆ 862.3084   ┆ -9717.003         ┆ -1587.8823         │\n",
              "│ 2014-03-01 ┆ 55691.009  ┆ 498.7299   ┆ 51171.117         ┆ -363.5785          │\n",
              "│ 2014-04-01 ┆ 28295.345  ┆ 3488.8352  ┆ -27395.664        ┆ 2990.1053          │\n",
              "│ 2014-05-01 ┆ 23648.287  ┆ 2738.7096  ┆ -4647.058         ┆ -750.1256          │\n",
              "│ …          ┆ …          ┆ …          ┆ …                 ┆ …                  │\n",
              "│ 2014-08-01 ┆ 27909.4685 ┆ 5318.105   ┆ -6036.9245        ┆ 6159.5876          │\n",
              "│ 2014-09-01 ┆ 81777.3508 ┆ 8328.0994  ┆ 53867.8823        ┆ 3009.9944          │\n",
              "│ 2014-10-01 ┆ 31453.393  ┆ 3448.2573  ┆ -50323.9578       ┆ -4879.8421         │\n",
              "│ 2014-11-01 ┆ 78628.7167 ┆ 9292.1269  ┆ 47175.3237        ┆ 5843.8696          │\n",
              "│ 2014-12-01 ┆ 69545.6205 ┆ 8983.5699  ┆ -9083.0962        ┆ -308.557           │\n",
              "└────────────┴────────────┴────────────┴───────────────────┴────────────────────┘"
            ],
            "text/html": [
              "<div><style>\n",
              ".dataframe > thead > tr,\n",
              ".dataframe > tbody > tr {\n",
              "  text-align: right;\n",
              "  white-space: pre-wrap;\n",
              "}\n",
              "</style>\n",
              "<small>shape: (12, 5)</small><table border=\"1\" class=\"dataframe\"><thead><tr><th>month</th><th>tot_sales</th><th>tot_profit</th><th>month_sales_delta</th><th>month_profit_delta</th></tr><tr><td>date</td><td>f64</td><td>f64</td><td>f64</td><td>f64</td></tr></thead><tbody><tr><td>2014-01-01</td><td>14236.895</td><td>2450.1907</td><td>null</td><td>null</td></tr><tr><td>2014-02-01</td><td>4519.892</td><td>862.3084</td><td>-9717.003</td><td>-1587.8823</td></tr><tr><td>2014-03-01</td><td>55691.009</td><td>498.7299</td><td>51171.117</td><td>-363.5785</td></tr><tr><td>2014-04-01</td><td>28295.345</td><td>3488.8352</td><td>-27395.664</td><td>2990.1053</td></tr><tr><td>2014-05-01</td><td>23648.287</td><td>2738.7096</td><td>-4647.058</td><td>-750.1256</td></tr><tr><td>&hellip;</td><td>&hellip;</td><td>&hellip;</td><td>&hellip;</td><td>&hellip;</td></tr><tr><td>2014-08-01</td><td>27909.4685</td><td>5318.105</td><td>-6036.9245</td><td>6159.5876</td></tr><tr><td>2014-09-01</td><td>81777.3508</td><td>8328.0994</td><td>53867.8823</td><td>3009.9944</td></tr><tr><td>2014-10-01</td><td>31453.393</td><td>3448.2573</td><td>-50323.9578</td><td>-4879.8421</td></tr><tr><td>2014-11-01</td><td>78628.7167</td><td>9292.1269</td><td>47175.3237</td><td>5843.8696</td></tr><tr><td>2014-12-01</td><td>69545.6205</td><td>8983.5699</td><td>-9083.0962</td><td>-308.557</td></tr></tbody></table></div>"
            ]
          },
          "metadata": {},
          "execution_count": 17
        }
      ],
      "source": [
        "delta_sales = (\n",
        "    delta_sales\n",
        "    .with_columns(\n",
        "        (pl.col(\"tot_profit\") - pl.col(\"tot_profit\").shift(1)).alias(\"month_profit_delta\")\n",
        "    )\n",
        ")\n",
        "\n",
        "print(\"\\nMonth with greatest profit increase:\")\n",
        "print(delta_sales.sort(\"month_profit_delta\", descending=True, nulls_last=True).head(1))\n",
        "\n",
        "print(\"\\nAll monthly deltas:\")\n",
        "delta_sales.head(12)"
      ]
    },
    {
      "cell_type": "markdown",
      "metadata": {
        "id": "XwXrvKCRYlHu"
      },
      "source": [
        "## Additional Window Function Examples\n",
        "\n",
        "### Lead function example\n",
        "Let's look at the next month's sales alongside current month"
      ]
    },
    {
      "cell_type": "code",
      "execution_count": null,
      "metadata": {
        "id": "gkYQtfIGYlHu"
      },
      "outputs": [],
      "source": [
        "# Using shift with negative value for lead\n",
        "lead_example = (\n",
        "    monthly_sales\n",
        "    .with_columns([\n",
        "        pl.col(\"tot_sales\").shift(-1).alias(\"next_month_sales\"),\n",
        "        pl.col(\"tot_sales\").shift(1).alias(\"prev_month_sales\")\n",
        "    ])\n",
        ")\n",
        "\n",
        "print(\"Lead/Lag example:\")\n",
        "lead_example.head(10)"
      ]
    },
    {
      "cell_type": "markdown",
      "metadata": {
        "id": "XGJ8W1YmYlHu"
      },
      "source": [
        "### Rolling window calculations\n",
        "Calculate 3-month moving average of sales"
      ]
    },
    {
      "cell_type": "code",
      "execution_count": 18,
      "metadata": {
        "id": "CI5dk4_CYlHu",
        "colab": {
          "base_uri": "https://localhost:8080/",
          "height": 461
        },
        "outputId": "73b1b270-87ea-466b-b47d-b3f9abc2ae25"
      },
      "outputs": [
        {
          "output_type": "stream",
          "name": "stdout",
          "text": [
            "Rolling 3-month average:\n"
          ]
        },
        {
          "output_type": "execute_result",
          "data": {
            "text/plain": [
              "shape: (12, 4)\n",
              "┌────────────┬────────────┬────────────┬───────────────────┐\n",
              "│ month      ┆ tot_sales  ┆ tot_profit ┆ 3_month_avg_sales │\n",
              "│ ---        ┆ ---        ┆ ---        ┆ ---               │\n",
              "│ date       ┆ f64        ┆ f64        ┆ f64               │\n",
              "╞════════════╪════════════╪════════════╪═══════════════════╡\n",
              "│ 2014-01-01 ┆ 14236.895  ┆ 2450.1907  ┆ null              │\n",
              "│ 2014-02-01 ┆ 4519.892   ┆ 862.3084   ┆ null              │\n",
              "│ 2014-03-01 ┆ 55691.009  ┆ 498.7299   ┆ 24815.932         │\n",
              "│ 2014-04-01 ┆ 28295.345  ┆ 3488.8352  ┆ 29502.082         │\n",
              "│ 2014-05-01 ┆ 23648.287  ┆ 2738.7096  ┆ 35878.213667      │\n",
              "│ …          ┆ …          ┆ …          ┆ …                 │\n",
              "│ 2014-08-01 ┆ 27909.4685 ┆ 5318.105   ┆ 32150.3297        │\n",
              "│ 2014-09-01 ┆ 81777.3508 ┆ 8328.0994  ┆ 47877.737433      │\n",
              "│ 2014-10-01 ┆ 31453.393  ┆ 3448.2573  ┆ 47046.737433      │\n",
              "│ 2014-11-01 ┆ 78628.7167 ┆ 9292.1269  ┆ 63953.1535        │\n",
              "│ 2014-12-01 ┆ 69545.6205 ┆ 8983.5699  ┆ 59875.910067      │\n",
              "└────────────┴────────────┴────────────┴───────────────────┘"
            ],
            "text/html": [
              "<div><style>\n",
              ".dataframe > thead > tr,\n",
              ".dataframe > tbody > tr {\n",
              "  text-align: right;\n",
              "  white-space: pre-wrap;\n",
              "}\n",
              "</style>\n",
              "<small>shape: (12, 4)</small><table border=\"1\" class=\"dataframe\"><thead><tr><th>month</th><th>tot_sales</th><th>tot_profit</th><th>3_month_avg_sales</th></tr><tr><td>date</td><td>f64</td><td>f64</td><td>f64</td></tr></thead><tbody><tr><td>2014-01-01</td><td>14236.895</td><td>2450.1907</td><td>null</td></tr><tr><td>2014-02-01</td><td>4519.892</td><td>862.3084</td><td>null</td></tr><tr><td>2014-03-01</td><td>55691.009</td><td>498.7299</td><td>24815.932</td></tr><tr><td>2014-04-01</td><td>28295.345</td><td>3488.8352</td><td>29502.082</td></tr><tr><td>2014-05-01</td><td>23648.287</td><td>2738.7096</td><td>35878.213667</td></tr><tr><td>&hellip;</td><td>&hellip;</td><td>&hellip;</td><td>&hellip;</td></tr><tr><td>2014-08-01</td><td>27909.4685</td><td>5318.105</td><td>32150.3297</td></tr><tr><td>2014-09-01</td><td>81777.3508</td><td>8328.0994</td><td>47877.737433</td></tr><tr><td>2014-10-01</td><td>31453.393</td><td>3448.2573</td><td>47046.737433</td></tr><tr><td>2014-11-01</td><td>78628.7167</td><td>9292.1269</td><td>63953.1535</td></tr><tr><td>2014-12-01</td><td>69545.6205</td><td>8983.5699</td><td>59875.910067</td></tr></tbody></table></div>"
            ]
          },
          "metadata": {},
          "execution_count": 18
        }
      ],
      "source": [
        "rolling_example = (\n",
        "    monthly_sales\n",
        "    .sort(\"month\")\n",
        "    .with_columns(\n",
        "        pl.col(\"tot_sales\").rolling_mean(window_size=3).alias(\"3_month_avg_sales\")\n",
        "    )\n",
        ")\n",
        "\n",
        "print(\"Rolling 3-month average:\")\n",
        "rolling_example.head(12)"
      ]
    },
    {
      "cell_type": "code",
      "source": [],
      "metadata": {
        "id": "AQj--el0zby8"
      },
      "execution_count": null,
      "outputs": []
    }
  ],
  "metadata": {
    "kernelspec": {
      "display_name": "Python 3",
      "language": "python",
      "name": "python3"
    },
    "language_info": {
      "codemirror_mode": {
        "name": "ipython",
        "version": 3
      },
      "file_extension": ".py",
      "mimetype": "text/x-python",
      "name": "python",
      "nbconvert_exporter": "python",
      "pygments_lexer": "ipython3",
      "version": "3.8.0"
    },
    "colab": {
      "provenance": []
    }
  },
  "nbformat": 4,
  "nbformat_minor": 0
}