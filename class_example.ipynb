{
 "cells": [
  {
   "cell_type": "markdown",
   "metadata": {},
   "source": [
    "# OPIM510: Week 3 - Window Functions\n",
    "\n",
    "## Window Functions\n",
    "\n",
    "Defined by [Postgres](https://www.postgresql.org/docs/9.1/tutorial-window.html) as:\n",
    "\n",
    "> A *window function* performs a calculation across a set of table rows that are somehow related to the current row. This is comparable to the type of calculation that can be done with an aggregate function. But unlike regular aggregate functions, use of a window function does not cause rows to become grouped into a single output row --- the rows retain their separate identities. Behind the scenes, the window function is able to access more than just the current row of the query result.\n",
    "\n",
    "### Examples of Window Function use cases\n",
    "\n",
    "- Ranking (or ranking within groups) based on a metric\n",
    "- Running totals (or running totals within groups) of a metric\n",
    "- Lead/lag calculations (i.e. Looking forward or backwards by *n* rows to perform a calculation on the current row)"
   ]
  },
  {
   "cell_type": "markdown",
   "metadata": {},
   "source": [
    "## Prepare our environment"
   ]
  },
  {
   "cell_type": "code",
   "execution_count": null,
   "metadata": {},
   "outputs": [],
   "source": [
    "import polars as pl\n",
    "from datetime import datetime, date\n",
    "\n",
    "# Configure Polars for better display\n",
    "pl.Config.set_tbl_rows(20)\n",
    "pl.Config.set_fmt_str_lengths(50)"
   ]
  },
  {
   "cell_type": "markdown",
   "metadata": {},
   "source": [
    "## Load our dataset"
   ]
  },
  {
   "cell_type": "code",
   "execution_count": null,
   "metadata": {},
   "outputs": [],
   "source": [
    "# Read the Superstore Excel file\n",
    "sales = pl.read_csv('data/Superstor.csv')\n",
    "print(f\"Shape: {sales.shape}\")\n",
    "print(f\"\\nColumns: {sales.columns}\")\n",
    "sales.head()"
   ]
  },
  {
   "cell_type": "markdown",
   "metadata": {},
   "source": [
    "## Using window functions to compute ranking\n",
    "\n",
    "**Business Question:** Who are our top 10 most `Profit`able `Customer Name`s?\n",
    "\n",
    "Key Points:\n",
    "- We need to aggregate `Profit` for each `Customer Name`\n",
    "- We need to rank the `Customer Name` groups on total `Profit`, then filter for only the top 10"
   ]
  },
  {
   "cell_type": "code",
   "execution_count": null,
   "metadata": {},
   "outputs": [],
   "source": [
    "top_customers = (\n",
    "    sales\n",
    "    .group_by(\"Customer Name\")\n",
    "    .agg(\n",
    "        pl.col(\"Profit\").sum().alias(\"total_profit\")\n",
    "    )\n",
    "    .with_columns(\n",
    "        pl.col(\"total_profit\").rank(method=\"min\", descending=True).alias(\"profit_rank\")\n",
    "    )\n",
    "    .filter(pl.col(\"profit_rank\") < 11)\n",
    "    .sort(\"profit_rank\")\n",
    ")\n",
    "\n",
    "top_customers"
   ]
  },
  {
   "cell_type": "markdown",
   "metadata": {},
   "source": [
    "## Using window function within groups\n",
    "\n",
    "**Business Question:** Who are the most `Profit`able `Customer Names` for each `Region`?\n",
    "\n",
    "Key Points:\n",
    "- We need to aggregate `Profit` for each combination of `Customer Name` and `Region`\n",
    "- We need to rank the `Customer Name` groups on total `Profit`, then filter for only the top 10 FOR EACH `Region`"
   ]
  },
  {
   "cell_type": "code",
   "execution_count": null,
   "metadata": {},
   "outputs": [],
   "source": [
    "top_customers_region = (\n",
    "    sales\n",
    "    .group_by([\"Customer Name\", \"Region\"])\n",
    "    .agg(\n",
    "        pl.col(\"Profit\").sum().alias(\"total_profit\")\n",
    "    )\n",
    "    .with_columns(\n",
    "        pl.col(\"total_profit\")\n",
    "        .rank(method=\"min\", descending=True)\n",
    "        .over(\"Region\")\n",
    "        .alias(\"profit_rank\")\n",
    "    )\n",
    "    .filter(pl.col(\"profit_rank\") < 11)\n",
    "    .sort([\"Region\", \"profit_rank\"])\n",
    ")\n",
    "\n",
    "print(f\"Shape: {top_customers_region.shape}\")\n",
    "top_customers_region.head(20)"
   ]
  },
  {
   "cell_type": "markdown",
   "metadata": {},
   "source": [
    "## Cumulative (running) totals\n",
    "\n",
    "**Business Question:** Show the running total of `Sales` for the days (using by `Order Date`) leading up to 2016-11-08.\n",
    "\n",
    "Key Points:\n",
    "- Need to figure out how to get a running total of `Sales`\n",
    "- Must order the data in ascending order by `Order Date`"
   ]
  },
  {
   "cell_type": "code",
   "execution_count": null,
   "metadata": {},
   "outputs": [],
   "source": [
    "running_sales = (\n",
    "    sales\n",
    "    .group_by(\"Order Date\")\n",
    "    .agg(\n",
    "        pl.col(\"Sales\").sum().alias(\"tot_sales\")\n",
    "    )\n",
    "    .sort(\"Order Date\")\n",
    "    .with_columns(\n",
    "        pl.col(\"tot_sales\").cum_sum().alias(\"running_total\")\n",
    "    )\n",
    "    .filter(pl.col(\"Order Date\") < datetime(2016, 11, 8))\n",
    ")\n",
    "\n",
    "print(f\"Shape: {running_sales.shape}\")\n",
    "running_sales.tail(10)"
   ]
  },
  {
   "cell_type": "markdown",
   "metadata": {},
   "source": [
    "## Quick Summarization\n",
    "\n",
    "**Business Question:** What is the the total amount of both `Sales` and `Profit` for each month of `Order Date`? (When computing months, each combination of year and month counts as a unique month.)\n",
    "\n",
    "Key points:\n",
    "- Need to figure out how to parse out only the year/months from the `Order Date` column\n",
    "- We can use Polars' datetime functionality to truncate dates to month boundaries\n",
    "- FOR EACH usually means we are grouping by something. In this case we have to figure out how to get year/month combinations from the `Order Date` field\n",
    "- Create sums for both `Sales` and `Profit`"
   ]
  },
  {
   "cell_type": "markdown",
   "metadata": {},
   "source": [
    "### Date truncation examples in Polars"
   ]
  },
  {
   "cell_type": "code",
   "execution_count": null,
   "metadata": {},
   "outputs": [],
   "source": [
    "# Examples of date truncation in Polars\n",
    "example_date = datetime(2023, 11, 7, 12, 31, 13)\n",
    "df_example = pl.DataFrame({\"datetime\": [example_date]})\n",
    "\n",
    "print(\"Original datetime:\", example_date)\n",
    "print(\"\\nTruncated to different units:\")\n",
    "print(df_example.with_columns([\n",
    "    pl.col(\"datetime\").dt.truncate(\"1y\").alias(\"year\"),\n",
    "    pl.col(\"datetime\").dt.truncate(\"1mo\").alias(\"month\"),\n",
    "    pl.col(\"datetime\").dt.truncate(\"1d\").alias(\"day\"),\n",
    "    pl.col(\"datetime\").dt.truncate(\"1h\").alias(\"hour\"),\n",
    "    pl.col(\"datetime\").dt.truncate(\"1m\").alias(\"minute\"),\n",
    "]))"
   ]
  },
  {
   "cell_type": "code",
   "execution_count": null,
   "metadata": {},
   "outputs": [],
   "source": [
    "monthly_sales = (\n",
    "    sales\n",
    "    .with_columns(\n",
    "        pl.col(\"Order Date\").dt.truncate(\"1mo\").alias(\"month\")\n",
    "    )\n",
    "    .group_by(\"month\")\n",
    "    .agg([\n",
    "        pl.col(\"Sales\").sum().alias(\"tot_sales\"),\n",
    "        pl.col(\"Profit\").sum().alias(\"tot_profit\")\n",
    "    ])\n",
    "    .sort(\"month\")\n",
    ")\n",
    "\n",
    "print(f\"Shape: {monthly_sales.shape}\")\n",
    "monthly_sales.head(12)"
   ]
  },
  {
   "cell_type": "markdown",
   "metadata": {},
   "source": [
    "## Going one level further\n",
    "\n",
    "**Business Question:** Using the data frame from the previous question: between which months was the greatest jump in sales?\n",
    "\n",
    "Key Points:\n",
    "- Using the previous data frame\n",
    "- Need to figure out the difference between `tot_sales` from month to month"
   ]
  },
  {
   "cell_type": "code",
   "execution_count": null,
   "metadata": {},
   "outputs": [],
   "source": [
    "delta_sales = (\n",
    "    monthly_sales\n",
    "    .with_columns(\n",
    "        (pl.col(\"tot_sales\") - pl.col(\"tot_sales\").shift(1)).alias(\"month_sales_delta\")\n",
    "    )\n",
    ")\n",
    "\n",
    "print(\"\\nMonth with greatest sales increase:\")\n",
    "print(delta_sales.sort(\"month_sales_delta\", descending=True).head(1))\n",
    "\n",
    "print(\"\\nAll monthly deltas:\")\n",
    "delta_sales.head(12)"
   ]
  },
  {
   "cell_type": "markdown",
   "metadata": {},
   "source": [
    "## Same dataset but now finding the `Profit` monthly delta\n",
    "\n",
    "**Business Question:** Using the data frame from the previous question: between which months was the greatest jump in profit?\n",
    "\n",
    "Key Points:\n",
    "- Using the previous data frame\n",
    "- Need to figure out the difference between `tot_profit` from month to month"
   ]
  },
  {
   "cell_type": "code",
   "execution_count": null,
   "metadata": {},
   "outputs": [],
   "source": [
    "delta_sales = (\n",
    "    delta_sales\n",
    "    .with_columns(\n",
    "        (pl.col(\"tot_profit\") - pl.col(\"tot_profit\").shift(1)).alias(\"month_profit_delta\")\n",
    "    )\n",
    ")\n",
    "\n",
    "print(\"\\nMonth with greatest profit increase:\")\n",
    "print(delta_sales.sort(\"month_profit_delta\", descending=True).head(1))\n",
    "\n",
    "print(\"\\nAll monthly deltas:\")\n",
    "delta_sales.head(12)"
   ]
  },
  {
   "cell_type": "markdown",
   "metadata": {},
   "source": [
    "## Additional Window Function Examples\n",
    "\n",
    "### Lead function example\n",
    "Let's look at the next month's sales alongside current month"
   ]
  },
  {
   "cell_type": "code",
   "execution_count": null,
   "metadata": {},
   "outputs": [],
   "source": [
    "# Using shift with negative value for lead\n",
    "lead_example = (\n",
    "    monthly_sales\n",
    "    .with_columns([\n",
    "        pl.col(\"tot_sales\").shift(-1).alias(\"next_month_sales\"),\n",
    "        pl.col(\"tot_sales\").shift(1).alias(\"prev_month_sales\")\n",
    "    ])\n",
    ")\n",
    "\n",
    "print(\"Lead/Lag example:\")\n",
    "lead_example.head(10)"
   ]
  },
  {
   "cell_type": "markdown",
   "metadata": {},
   "source": [
    "### Rolling window calculations\n",
    "Calculate 3-month moving average of sales"
   ]
  },
  {
   "cell_type": "code",
   "execution_count": null,
   "metadata": {},
   "outputs": [],
   "source": [
    "rolling_example = (\n",
    "    monthly_sales\n",
    "    .sort(\"month\")\n",
    "    .with_columns(\n",
    "        pl.col(\"tot_sales\").rolling_mean(window_size=3).alias(\"3_month_avg_sales\")\n",
    "    )\n",
    ")\n",
    "\n",
    "print(\"Rolling 3-month average:\")\n",
    "rolling_example.head(12)"
   ]
  }
 ],
 "metadata": {
  "kernelspec": {
   "display_name": "Python 3",
   "language": "python",
   "name": "python3"
  },
  "language_info": {
   "codemirror_mode": {
    "name": "ipython",
    "version": 3
   },
   "file_extension": ".py",
   "mimetype": "text/x-python",
   "name": "python",
   "nbconvert_exporter": "python",
   "pygments_lexer": "ipython3",
   "version": "3.8.0"
  }
 },
 "nbformat": 4,
 "nbformat_minor": 4
}
