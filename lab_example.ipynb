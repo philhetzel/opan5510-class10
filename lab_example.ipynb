{
 "cells": [
  {
   "cell_type": "markdown",
   "metadata": {},
   "source": [
    "# OPAN5505 Lab 3 Assignment (Polars Version)\n",
    "\n",
    "## Background\n",
    "\n",
    "You've been engaged by the Federal Aviation Administration to perform an analysis on \"strike\" data. A \"strike\" refers to when an aircraft and an object within the air (typically wildlife) collide."
   ]
  },
  {
   "cell_type": "markdown",
   "metadata": {},
   "source": [
    "## Prepare your environment\n",
    "\n",
    "You will need the `polars` package for this assignment. We'll also use `datetime` for date handling."
   ]
  },
  {
   "cell_type": "code",
   "execution_count": null,
   "metadata": {},
   "outputs": [],
   "source": [
    "import polars as pl\n",
    "from datetime import datetime\n",
    "\n",
    "# Configure Polars to display more rows\n",
    "pl.Config.set_tbl_rows(20)"
   ]
  },
  {
   "cell_type": "markdown",
   "metadata": {},
   "source": [
    "## Load your dataset\n",
    "\n",
    "Read the `faa_strikes.txt` dataset into Polars. Name the resulting DataFrame `strikes`."
   ]
  },
  {
   "cell_type": "code",
   "execution_count": null,
   "metadata": {},
   "outputs": [],
   "source": [
    "# Read the faa_strikes.txt data\n",
    "strikes = pl.read_csv(\"faa_strikes.txt\", separator=\"\\t\")\n",
    "print(f\"Shape: {strikes.shape}\")\n",
    "print(\"\\nColumns:\")\n",
    "print(strikes.columns)\n",
    "strikes.head()"
   ]
  },
  {
   "cell_type": "markdown",
   "metadata": {},
   "source": [
    "## Question 1: Running total of strikes by day through 2013 (2 points)\n",
    "\n",
    "You are interested in seeing the running total of strikes over time (`Collision Date and Time`) on a daily basis. Using the `strikes` dataframe, create a new column that removes the time information but keeps the date information from the `Collision Date and Time` column (call this new field `date`). Next, aggregate the `Number of Strikes` by day (call this new field `daily_strikes`). Sort the data in ascending order by `date`. Then, create the running total of `daily_strikes` (name the new field `strikes_cumulative`) and filter to only the records **up to and including** the `date` of 2013-12-31. Name the resulting data frame `running_total_strikes`."
   ]
  },
  {
   "cell_type": "code",
   "execution_count": null,
   "metadata": {},
   "outputs": [],
   "source": [
    "# Convert to datetime and extract date\n",
    "running_total_strikes = (\n",
    "    strikes\n",
    "    .with_columns(\n",
    "        pl.col(\"Collision Date and Time\").str.strptime(pl.Datetime, format=\"%m/%d/%Y %H:%M:%S\").dt.date().alias(\"date\")\n",
    "    )\n",
    "    .group_by(\"date\")\n",
    "    .agg(\n",
    "        pl.col(\"Number of Strikes\").sum().alias(\"daily_strikes\")\n",
    "    )\n",
    "    .sort(\"date\")\n",
    "    .with_columns(\n",
    "        pl.col(\"daily_strikes\").cum_sum().alias(\"strikes_cumulative\")\n",
    "    )\n",
    "    .filter(pl.col(\"date\") <= datetime(2013, 12, 31).date())\n",
    ")\n",
    "\n",
    "print(f\"Shape: {running_total_strikes.shape}\")\n",
    "running_total_strikes.tail(10)"
   ]
  },
  {
   "cell_type": "markdown",
   "metadata": {},
   "source": [
    "## Question 2: States with the third highest financial cost (2 points)\n",
    "\n",
    "The FAA is interested in the financial cost of strikes for each `Origin State`. Using the `strikes` dataframe: first, sum `Cost: Total $` by `Origin State` (name the resulting column `damage`) then `rank` these states in order of which state had the most financial `damage` (name the new column with rank information, `ranking`). Next, filter to show the row with the third highest `ranking`. Use a window function to answer this question. Name the resulting dataframe `damage_state`."
   ]
  },
  {
   "cell_type": "code",
   "execution_count": null,
   "metadata": {},
   "outputs": [],
   "source": [
    "# Sum damage by state and rank\n",
    "damage_state = (\n",
    "    strikes\n",
    "    .group_by(\"Origin State\")\n",
    "    .agg(\n",
    "        pl.col(\"Cost: Total $\").sum().alias(\"damage\")\n",
    "    )\n",
    "    .with_columns(\n",
    "        pl.col(\"damage\").rank(method=\"min\", descending=True).alias(\"ranking\")\n",
    "    )\n",
    "    .filter(pl.col(\"ranking\") == 3)\n",
    ")\n",
    "\n",
    "damage_state"
   ]
  },
  {
   "cell_type": "markdown",
   "metadata": {},
   "source": [
    "## Question 3: What are the second costliest Species Groups for each Aircraft Type? (2 points)\n",
    "\n",
    "The FAA wants to know if some species groups are more dangerous to particular types of aircraft. Using the `strikes` dataframe: first, sum financial damage (`Cost: Total $`) information by `Aircraft: Type` and `Wildlife: Species Group` (name the new field `damage`). Rank the rows within each `Aircraft: Type` based on the greatest amount of `damage`; when performing the ranking function, name the new column `ranking`. Return the rows that represent the `Wildlife: Species Group` values that caused the **second most** financial `damage` to each `Aircraft: Type`. Name the resulting dataframe `type_species`."
   ]
  },
  {
   "cell_type": "code",
   "execution_count": null,
   "metadata": {},
   "outputs": [],
   "source": [
    "# Sum damage by aircraft type and species group, then rank within each aircraft type\n",
    "type_species = (\n",
    "    strikes\n",
    "    .group_by([\"Aircraft: Type\", \"Wildlife: Species Group\"])\n",
    "    .agg(\n",
    "        pl.col(\"Cost: Total $\").sum().alias(\"damage\")\n",
    "    )\n",
    "    .with_columns(\n",
    "        pl.col(\"damage\")\n",
    "        .rank(method=\"min\", descending=True)\n",
    "        .over(\"Aircraft: Type\")\n",
    "        .alias(\"ranking\")\n",
    "    )\n",
    "    .filter(pl.col(\"ranking\") == 2)\n",
    ")\n",
    "\n",
    "print(f\"Shape: {type_species.shape}\")\n",
    "type_species"
   ]
  },
  {
   "cell_type": "markdown",
   "metadata": {},
   "source": [
    "## Question 4: Which days had the greatest positive jump in strikes? (2 points)\n",
    "\n",
    "The FAA wants to investigate which days had the largest increase in strikes from the previous day. Using the `strikes` dataframe: sum the `Number of Strikes` measure by day (note: not by day and time). You can use a similar technique from Question 1 to create a new column from `Collision Date and Time` without time information and with date information (name this column `date`). Next, compute the previous day's strikes using a window function (name the new column `previous_day`), and calculate the difference of strikes between the current day and the previous day (name the new column `delta_strikes`). Sort the resulting data by `delta_strikes` in descending order to find which days had the highest increase of strikes from the previous day. Name the resulting dataframe `greatest_strike_increase`.\n",
    "\n",
    "**Hint:** This code is more involved that other exercises, so I will explicitly name the steps to answer the question.\n",
    "\n",
    "1. Start with the `strikes` data frame\n",
    "2. Create a new column called `date` which removes the time information in the `Collision Date and Time` column\n",
    "3. Sum the `Number of Strikes` by `date`, and name the new column `daily_strikes`\n",
    "4. Sort by the `date` column in ascending order\n",
    "5. Create a new column called `previous_day` to calculate what the `daily_strikes` were in the previous day\n",
    "6. Create a new column called `delta_strikes` which subtracts `previous_day` from `daily_strikes`\n",
    "7. Sort in descending order by `delta_strikes`"
   ]
  },
  {
   "cell_type": "code",
   "execution_count": null,
   "metadata": {},
   "outputs": [],
   "source": [
    "# Calculate daily strikes and find days with greatest increase\n",
    "greatest_strike_increase = (\n",
    "    strikes\n",
    "    # Step 2: Create date column\n",
    "    .with_columns(\n",
    "        pl.col(\"Collision Date and Time\").str.strptime(pl.Datetime, format=\"%m/%d/%Y %H:%M:%S\").dt.date().alias(\"date\")\n",
    "    )\n",
    "    # Step 3: Sum strikes by date\n",
    "    .group_by(\"date\")\n",
    "    .agg(\n",
    "        pl.col(\"Number of Strikes\").sum().alias(\"daily_strikes\")\n",
    "    )\n",
    "    # Step 4: Sort by date\n",
    "    .sort(\"date\")\n",
    "    # Step 5 & 6: Calculate previous day and delta\n",
    "    .with_columns([\n",
    "        pl.col(\"daily_strikes\").shift(1).alias(\"previous_day\"),\n",
    "    ])\n",
    "    .with_columns(\n",
    "        (pl.col(\"daily_strikes\") - pl.col(\"previous_day\")).alias(\"delta_strikes\")\n",
    "    )\n",
    "    # Step 7: Sort by delta_strikes descending\n",
    "    .sort(\"delta_strikes\", descending=True)\n",
    ")\n",
    "\n",
    "print(f\"Shape: {greatest_strike_increase.shape}\")\n",
    "greatest_strike_increase.head(10)"
   ]
  },
  {
   "cell_type": "markdown",
   "metadata": {},
   "source": [
    "## Question 5: Which single day had the greatest increase in strikes for each `Aircraft: Type`? (2 points)\n",
    "\n",
    "FAA was interested in the exercise from the last question but now wants to determine the largest delta between days for each `Aircraft: Type`. What are the days that had largest positive change in strikes for each `Aircraft: Type`? In order to answer this question, you will need to perform the exercise from Question 4, but this time include a grouping by `Aircraft: Type`. After grouping by `Aircraft: Type`, add a column called `ranking` and use a window function to determine the day with the largest increase in strikes from the previous day. Name the resulting data frame `greatest_strike_increase_type`\n",
    "\n",
    "NOTE: Helicopters are not struck with a high frequency and will not show up in your analysis; this is fine."
   ]
  },
  {
   "cell_type": "code",
   "execution_count": null,
   "metadata": {},
   "outputs": [],
   "source": [
    "# Calculate daily strikes by aircraft type and find day with greatest increase for each type\n",
    "greatest_strike_increase_type = (\n",
    "    strikes\n",
    "    # Create date column\n",
    "    .with_columns(\n",
    "        pl.col(\"Collision Date and Time\").str.strptime(pl.Datetime, format=\"%m/%d/%Y %H:%M:%S\").dt.date().alias(\"date\")\n",
    "    )\n",
    "    # Sum strikes by date and aircraft type\n",
    "    .group_by([\"date\", \"Aircraft: Type\"])\n",
    "    .agg(\n",
    "        pl.col(\"Number of Strikes\").sum().alias(\"daily_strikes\")\n",
    "    )\n",
    "    # Sort by aircraft type and date\n",
    "    .sort([\"Aircraft: Type\", \"date\"])\n",
    "    # Calculate previous day's strikes within each aircraft type\n",
    "    .with_columns(\n",
    "        pl.col(\"daily_strikes\").shift(1).over(\"Aircraft: Type\").alias(\"previous_day\")\n",
    "    )\n",
    "    # Calculate delta\n",
    "    .with_columns(\n",
    "        (pl.col(\"daily_strikes\") - pl.col(\"previous_day\")).alias(\"delta_strikes\")\n",
    "    )\n",
    "    # Rank within each aircraft type\n",
    "    .with_columns(\n",
    "        pl.col(\"delta_strikes\")\n",
    "        .rank(method=\"min\", descending=True)\n",
    "        .over(\"Aircraft: Type\")\n",
    "        .alias(\"ranking\")\n",
    "    )\n",
    "    # Filter for top ranked (greatest increase) per aircraft type\n",
    "    .filter(pl.col(\"ranking\") == 1)\n",
    "    .sort(\"delta_strikes\", descending=True)\n",
    ")\n",
    "\n",
    "print(f\"Shape: {greatest_strike_increase_type.shape}\")\n",
    "greatest_strike_increase_type"
   ]
  },
  {
   "cell_type": "markdown",
   "metadata": {},
   "source": [
    "## Save results\n",
    "\n",
    "Save all the resulting DataFrames for verification."
   ]
  },
  {
   "cell_type": "code",
   "execution_count": null,
   "metadata": {},
   "outputs": [],
   "source": [
    "# Save results to parquet files\n",
    "running_total_strikes.write_parquet(\"running_total_strikes.parquet\")\n",
    "damage_state.write_parquet(\"damage_state.parquet\")\n",
    "type_species.write_parquet(\"type_species.parquet\")\n",
    "greatest_strike_increase.write_parquet(\"greatest_strike_increase.parquet\")\n",
    "greatest_strike_increase_type.write_parquet(\"greatest_strike_increase_type.parquet\")\n",
    "\n",
    "print(\"All results saved to parquet files.\")"
   ]
  }
 ],
 "metadata": {
  "kernelspec": {
   "display_name": "Python 3",
   "language": "python",
   "name": "python3"
  },
  "language_info": {
   "codemirror_mode": {
    "name": "ipython",
    "version": 3
   },
   "file_extension": ".py",
   "mimetype": "text/x-python",
   "name": "python",
   "nbconvert_exporter": "python",
   "pygments_lexer": "ipython3",
   "version": "3.8.0"
  }
 },
 "nbformat": 4,
 "nbformat_minor": 4
}